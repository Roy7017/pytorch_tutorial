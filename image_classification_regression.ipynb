{
 "cells": [
  {
   "cell_type": "markdown",
   "source": [
    "Follows YouTube Tutorial at <https://www.youtube.com/watch?v=GIsg-ZUy0MY> at timestamp 1:33:00"
   ],
   "metadata": {}
  },
  {
   "cell_type": "markdown",
   "source": [
    "We'll be using linear regression for the problem of image classification. We will use torch and torch vision. `torchvision` contains utility for working with images in PyTorch. It also contains helper classes to download and import popular datasets like MNIST automatically."
   ],
   "metadata": {}
  },
  {
   "cell_type": "code",
   "execution_count": 1,
   "source": [
    "import torch\r\n",
    "import torchvision\r\n",
    "from torchvision.datasets import MNIST\r\n",
    "import numpy as np"
   ],
   "outputs": [],
   "metadata": {}
  },
  {
   "cell_type": "code",
   "execution_count": 2,
   "source": [
    "dataset = MNIST(root='data/', download=True)"
   ],
   "outputs": [
    {
     "output_type": "stream",
     "name": "stderr",
     "text": [
      "d:\\Projects\\machine-learning\\venv\\lib\\site-packages\\torchvision\\datasets\\mnist.py:498: UserWarning: The given NumPy array is not writeable, and PyTorch does not support non-writeable tensors. This means you can write to the underlying (supposedly non-writeable) NumPy array using the tensor. You may want to copy the array to protect its data or make it writeable before converting it to a tensor. This type of warning will be suppressed for the rest of this program. (Triggered internally at  ..\\torch\\csrc\\utils\\tensor_numpy.cpp:180.)\n",
      "  return torch.from_numpy(parsed.astype(m[2], copy=False)).view(*s)\n"
     ]
    }
   ],
   "metadata": {}
  },
  {
   "cell_type": "markdown",
   "source": [
    "Downloads the images to the `data/` directory and creates a PyTorch dataset. On subsequent executions, the download is skipped as the data is already downloaded."
   ],
   "metadata": {}
  },
  {
   "cell_type": "code",
   "execution_count": 3,
   "source": [
    "len(dataset)"
   ],
   "outputs": [
    {
     "output_type": "execute_result",
     "data": {
      "text/plain": [
       "60000"
      ]
     },
     "metadata": {},
     "execution_count": 3
    }
   ],
   "metadata": {}
  },
  {
   "cell_type": "markdown",
   "source": [
    "There are extra 10,000 images for testing"
   ],
   "metadata": {}
  },
  {
   "cell_type": "code",
   "execution_count": 4,
   "source": [
    "test_dataset = MNIST(root='data/', train=False)"
   ],
   "outputs": [],
   "metadata": {}
  },
  {
   "cell_type": "code",
   "execution_count": 5,
   "source": [
    "dataset[0]"
   ],
   "outputs": [
    {
     "output_type": "execute_result",
     "data": {
      "text/plain": [
       "(<PIL.Image.Image image mode=L size=28x28 at 0x1C88BFA4DC0>, 5)"
      ]
     },
     "metadata": {},
     "execution_count": 5
    }
   ],
   "metadata": {}
  },
  {
   "cell_type": "code",
   "execution_count": 6,
   "source": [
    "import matplotlib.pyplot as plt\r\n",
    "%matplotlib inline"
   ],
   "outputs": [],
   "metadata": {}
  },
  {
   "cell_type": "code",
   "execution_count": 7,
   "source": [
    "index = 0\r\n",
    "image, label = dataset[index]\r\n",
    "plt.imshow(image, cmap='gray')\r\n",
    "print(f'Label: {label}')"
   ],
   "outputs": [
    {
     "output_type": "stream",
     "name": "stdout",
     "text": [
      "Label: 5\n"
     ]
    },
    {
     "output_type": "display_data",
     "data": {
      "text/plain": [
       "<Figure size 432x288 with 1 Axes>"
      ],
      "image/png": "[encoded data removed]"
     },
     "metadata": {
      "needs_background": "dark"
     }
    }
   ],
   "metadata": {}
  },
  {
   "cell_type": "code",
   "execution_count": 8,
   "source": [
    "index = 10\r\n",
    "image, label = dataset[index]\r\n",
    "plt.imshow(image, cmap='gray')\r\n",
    "print(f'Label: {label}')"
   ],
   "outputs": [
    {
     "output_type": "stream",
     "name": "stdout",
     "text": [
      "Label: 3\n"
     ]
    },
    {
     "output_type": "display_data",
     "data": {
      "text/plain": [
       "<Figure size 432x288 with 1 Axes>"
      ],
      "image/png": "[encoded data removed]"
     },
     "metadata": {
      "needs_background": "dark"
     }
    }
   ],
   "metadata": {}
  },
  {
   "cell_type": "markdown",
   "source": [
    "We need to transform the images to tensors, otherwise PyTorch can't work with them.  \r\n",
    "We can do this by specifying a transform while creating the dataset."
   ],
   "metadata": {}
  },
  {
   "cell_type": "code",
   "execution_count": 9,
   "source": [
    "import torchvision.transforms as transforms"
   ],
   "outputs": [],
   "metadata": {}
  },
  {
   "cell_type": "markdown",
   "source": [
    "PyTorch datasets allow us to specify one or more transformation functions that are applied to the images as they are loaded. The `torchvision.transforms` module contains many such predefined functions. We'll use the `ToTensor` transform to convert images into PyTorch tensors."
   ],
   "metadata": {}
  },
  {
   "cell_type": "code",
   "execution_count": 10,
   "source": [
    "dataset = MNIST(root='data/', train=True, transform=transforms.ToTensor())"
   ],
   "outputs": [],
   "metadata": {}
  },
  {
   "cell_type": "code",
   "execution_count": 11,
   "source": [
    "img_tensor, label = dataset[0]\r\n",
    "img_tensor.shape, label"
   ],
   "outputs": [
    {
     "output_type": "execute_result",
     "data": {
      "text/plain": [
       "(torch.Size([1, 28, 28]), 5)"
      ]
     },
     "metadata": {},
     "execution_count": 11
    }
   ],
   "metadata": {}
  },
  {
   "cell_type": "markdown",
   "source": [
    "The image is now converted to a 1x28x28 tensor. The first dimension tracks color channels. The second and third dimensions represent pixels along the height and width of the image, respectively. Since images in the MNIST dataset are grayscale, there's just one channel. Other datasets have images with color, in which case there are three channels: red, green, and blue (RGB). \r\n",
    "\r\n",
    "Let's look at some sample values inside the tensor."
   ],
   "metadata": {}
  },
  {
   "cell_type": "code",
   "execution_count": 12,
   "source": [
    "print(img_tensor[:, 10:15, 10:15])\r\n",
    "print(torch.max(img_tensor), torch.min(img_tensor))"
   ],
   "outputs": [
    {
     "output_type": "stream",
     "name": "stdout",
     "text": [
      "tensor([[[0.0039, 0.6039, 0.9922, 0.3529, 0.0000],\n",
      "         [0.0000, 0.5451, 0.9922, 0.7451, 0.0078],\n",
      "         [0.0000, 0.0431, 0.7451, 0.9922, 0.2745],\n",
      "         [0.0000, 0.0000, 0.1373, 0.9451, 0.8824],\n",
      "         [0.0000, 0.0000, 0.0000, 0.3176, 0.9412]]])\n",
      "tensor(1.) tensor(0.)\n"
     ]
    }
   ],
   "metadata": {}
  },
  {
   "cell_type": "code",
   "execution_count": 13,
   "source": [
    "plt.imshow(img_tensor[0, 10:15, 10:15].numpy(), cmap='gray')"
   ],
   "outputs": [
    {
     "output_type": "execute_result",
     "data": {
      "text/plain": [
       "<matplotlib.image.AxesImage at 0x1c914c109a0>"
      ]
     },
     "metadata": {},
     "execution_count": 13
    },
    {
     "output_type": "display_data",
     "data": {
      "text/plain": [
       "<Figure size 432x288 with 1 Axes>"
      ],
      "image/png": "[encoded data removed]"
     },
     "metadata": {
      "needs_background": "dark"
     }
    }
   ],
   "metadata": {}
  },
  {
   "cell_type": "markdown",
   "source": [
    "## Training and Validation Datasets\r\n",
    "\r\n",
    "While building real-world machine learning models, it is quite common to split the dataset into three parts:\r\n",
    "\r\n",
    "1. **Training set** - used to train the model, i.e., compute the loss and adjust the model's weights using gradient descent.\r\n",
    "2. **Validation set** - used to evaluate the model during training, adjust hyperparameters (learning rate, etc.), and pick the best version of the model.\r\n",
    "3. **Test set** - used to compare different models or approaches and report the model's final accuracy.\r\n",
    "\r\n",
    "In the MNIST dataset, there are 60,000 training images and 10,000 test images. The test set is standardized so that different researchers can report their models' results against the same collection of images. \r\n",
    "\r\n",
    "Since there's no predefined validation set, we must manually split the 60,000 images into training and validation datasets. Let's set aside 10,000 randomly chosen images for validation. We can do this using the `random_spilt` method from PyTorch."
   ],
   "metadata": {}
  },
  {
   "cell_type": "code",
   "execution_count": 14,
   "source": [
    "from torch.utils.data import random_split\r\n",
    "\r\n",
    "train_ds, val_ds = random_split(dataset, [50000, 10000])\r\n",
    "len(train_ds), len(val_ds)"
   ],
   "outputs": [
    {
     "output_type": "execute_result",
     "data": {
      "text/plain": [
       "(50000, 10000)"
      ]
     },
     "metadata": {},
     "execution_count": 14
    }
   ],
   "metadata": {}
  },
  {
   "cell_type": "markdown",
   "source": [
    "It's essential to choose a random sample for creating a validation set. Training data is often sorted by the target labels, i.e., images of 0s, followed by 1s, followed by 2s, etc. If we create a validation set using the last 20% of images, it would only consist of 8s and 9s. In contrast, the training set would contain no 8s or 9s. Such a training-validation would make it impossible to train a useful model.\r\n",
    "\r\n",
    "We can now create data loaders to help us load the data in batches. We'll use a batch size of 128."
   ],
   "metadata": {}
  },
  {
   "cell_type": "code",
   "execution_count": 15,
   "source": [
    "from torch.utils.data import DataLoader\r\n",
    "\r\n",
    "batch_size = 128\r\n",
    "train_dl = DataLoader(dataset=train_ds, batch_size=batch_size, shuffle=True)\r\n",
    "val_dl = DataLoader(dataset=val_ds, batch_size=batch_size)"
   ],
   "outputs": [],
   "metadata": {}
  },
  {
   "cell_type": "markdown",
   "source": [
    "## Model\r\n",
    "\r\n",
    "Now that we have prepared our data loaders, we can define our model.\r\n",
    "\r\n",
    "* A **logistic regression** model is almost identical to a linear regression model. It contains weights and bias matrices, and the output is obtained using simple matrix operations (`pred = x @ w.t() + b`). \r\n",
    "\r\n",
    "* As we did with linear regression, we can use `nn.Linear` to create the model instead of manually creating and initializing the matrices.\r\n",
    "\r\n",
    "* Since `nn.Linear` expects each training example to be a vector, each `1x28x28` image tensor is _flattened_ into a vector of size 784 `(28*28)` before being passed into the model. \r\n",
    "\r\n",
    "* The output for each image is a vector of size 10, with each element signifying the probability of a particular target label (i.e., 0 to 9). The predicted label for an image is simply the one with the highest probability."
   ],
   "metadata": {}
  },
  {
   "cell_type": "code",
   "execution_count": 16,
   "source": [
    "import torch.nn as nn\r\n",
    "\r\n",
    "input_size = 28*28\r\n",
    "num_classes = 10\r\n",
    "\r\n",
    "model = nn.Linear(input_size, num_classes)"
   ],
   "outputs": [],
   "metadata": {}
  },
  {
   "cell_type": "code",
   "execution_count": 17,
   "source": [
    "print(model.weight.shape)"
   ],
   "outputs": [
    {
     "output_type": "stream",
     "name": "stdout",
     "text": [
      "torch.Size([10, 784])\n"
     ]
    }
   ],
   "metadata": {}
  },
  {
   "cell_type": "code",
   "execution_count": 18,
   "source": [
    "print(model.bias.shape)"
   ],
   "outputs": [
    {
     "output_type": "stream",
     "name": "stdout",
     "text": [
      "torch.Size([10])\n"
     ]
    }
   ],
   "metadata": {}
  },
  {
   "cell_type": "code",
   "execution_count": 19,
   "source": [
    "for images, labels in train_dl:\r\n",
    "    print(labels)\r\n",
    "    print(images.shape)\r\n",
    "    outputs = model(images)\r\n",
    "    print(outputs)\r\n",
    "    break"
   ],
   "outputs": [
    {
     "output_type": "stream",
     "name": "stdout",
     "text": [
      "tensor([6, 2, 5, 6, 2, 6, 6, 4, 5, 8, 7, 1, 2, 7, 9, 2, 4, 0, 8, 5, 6, 5, 0, 9,\n",
      "        7, 3, 8, 0, 3, 2, 4, 4, 8, 6, 5, 4, 0, 0, 2, 4, 6, 0, 7, 4, 6, 1, 2, 7,\n",
      "        0, 6, 1, 7, 5, 0, 8, 4, 6, 0, 2, 3, 7, 3, 4, 9, 4, 4, 0, 8, 9, 1, 0, 1,\n",
      "        5, 0, 4, 8, 1, 3, 0, 5, 9, 9, 4, 4, 1, 2, 3, 8, 0, 0, 9, 3, 2, 0, 3, 3,\n",
      "        2, 1, 2, 9, 7, 5, 0, 9, 3, 1, 0, 5, 8, 3, 4, 1, 1, 1, 5, 9, 0, 3, 2, 9,\n",
      "        2, 2, 1, 4, 1, 0, 4, 4])\n",
      "torch.Size([128, 1, 28, 28])\n"
     ]
    },
    {
     "output_type": "error",
     "ename": "RuntimeError",
     "evalue": "mat1 and mat2 shapes cannot be multiplied (3584x28 and 784x10)",
     "traceback": [
      "\u001b[1;31m---------------------------------------------------------------------------\u001b[0m",
      "\u001b[1;31mRuntimeError\u001b[0m                              Traceback (most recent call last)",
      "\u001b[1;32m<ipython-input-19-cc8d1b4e095f>\u001b[0m in \u001b[0;36m<module>\u001b[1;34m\u001b[0m\n\u001b[0;32m      2\u001b[0m     \u001b[0mprint\u001b[0m\u001b[1;33m(\u001b[0m\u001b[0mlabels\u001b[0m\u001b[1;33m)\u001b[0m\u001b[1;33m\u001b[0m\u001b[1;33m\u001b[0m\u001b[0m\n\u001b[0;32m      3\u001b[0m     \u001b[0mprint\u001b[0m\u001b[1;33m(\u001b[0m\u001b[0mimages\u001b[0m\u001b[1;33m.\u001b[0m\u001b[0mshape\u001b[0m\u001b[1;33m)\u001b[0m\u001b[1;33m\u001b[0m\u001b[1;33m\u001b[0m\u001b[0m\n\u001b[1;32m----> 4\u001b[1;33m     \u001b[0moutputs\u001b[0m \u001b[1;33m=\u001b[0m \u001b[0mmodel\u001b[0m\u001b[1;33m(\u001b[0m\u001b[0mimages\u001b[0m\u001b[1;33m)\u001b[0m\u001b[1;33m\u001b[0m\u001b[1;33m\u001b[0m\u001b[0m\n\u001b[0m\u001b[0;32m      5\u001b[0m     \u001b[0mprint\u001b[0m\u001b[1;33m(\u001b[0m\u001b[0moutputs\u001b[0m\u001b[1;33m)\u001b[0m\u001b[1;33m\u001b[0m\u001b[1;33m\u001b[0m\u001b[0m\n\u001b[0;32m      6\u001b[0m     \u001b[1;32mbreak\u001b[0m\u001b[1;33m\u001b[0m\u001b[1;33m\u001b[0m\u001b[0m\n",
      "\u001b[1;32md:\\Projects\\machine-learning\\venv\\lib\\site-packages\\torch\\nn\\modules\\module.py\u001b[0m in \u001b[0;36m_call_impl\u001b[1;34m(self, *input, **kwargs)\u001b[0m\n\u001b[0;32m   1049\u001b[0m         if not (self._backward_hooks or self._forward_hooks or self._forward_pre_hooks or _global_backward_hooks\n\u001b[0;32m   1050\u001b[0m                 or _global_forward_hooks or _global_forward_pre_hooks):\n\u001b[1;32m-> 1051\u001b[1;33m             \u001b[1;32mreturn\u001b[0m \u001b[0mforward_call\u001b[0m\u001b[1;33m(\u001b[0m\u001b[1;33m*\u001b[0m\u001b[0minput\u001b[0m\u001b[1;33m,\u001b[0m \u001b[1;33m**\u001b[0m\u001b[0mkwargs\u001b[0m\u001b[1;33m)\u001b[0m\u001b[1;33m\u001b[0m\u001b[1;33m\u001b[0m\u001b[0m\n\u001b[0m\u001b[0;32m   1052\u001b[0m         \u001b[1;31m# Do not call functions when jit is used\u001b[0m\u001b[1;33m\u001b[0m\u001b[1;33m\u001b[0m\u001b[1;33m\u001b[0m\u001b[0m\n\u001b[0;32m   1053\u001b[0m         \u001b[0mfull_backward_hooks\u001b[0m\u001b[1;33m,\u001b[0m \u001b[0mnon_full_backward_hooks\u001b[0m \u001b[1;33m=\u001b[0m \u001b[1;33m[\u001b[0m\u001b[1;33m]\u001b[0m\u001b[1;33m,\u001b[0m \u001b[1;33m[\u001b[0m\u001b[1;33m]\u001b[0m\u001b[1;33m\u001b[0m\u001b[1;33m\u001b[0m\u001b[0m\n",
      "\u001b[1;32md:\\Projects\\machine-learning\\venv\\lib\\site-packages\\torch\\nn\\modules\\linear.py\u001b[0m in \u001b[0;36mforward\u001b[1;34m(self, input)\u001b[0m\n\u001b[0;32m     94\u001b[0m \u001b[1;33m\u001b[0m\u001b[0m\n\u001b[0;32m     95\u001b[0m     \u001b[1;32mdef\u001b[0m \u001b[0mforward\u001b[0m\u001b[1;33m(\u001b[0m\u001b[0mself\u001b[0m\u001b[1;33m,\u001b[0m \u001b[0minput\u001b[0m\u001b[1;33m:\u001b[0m \u001b[0mTensor\u001b[0m\u001b[1;33m)\u001b[0m \u001b[1;33m->\u001b[0m \u001b[0mTensor\u001b[0m\u001b[1;33m:\u001b[0m\u001b[1;33m\u001b[0m\u001b[1;33m\u001b[0m\u001b[0m\n\u001b[1;32m---> 96\u001b[1;33m         \u001b[1;32mreturn\u001b[0m \u001b[0mF\u001b[0m\u001b[1;33m.\u001b[0m\u001b[0mlinear\u001b[0m\u001b[1;33m(\u001b[0m\u001b[0minput\u001b[0m\u001b[1;33m,\u001b[0m \u001b[0mself\u001b[0m\u001b[1;33m.\u001b[0m\u001b[0mweight\u001b[0m\u001b[1;33m,\u001b[0m \u001b[0mself\u001b[0m\u001b[1;33m.\u001b[0m\u001b[0mbias\u001b[0m\u001b[1;33m)\u001b[0m\u001b[1;33m\u001b[0m\u001b[1;33m\u001b[0m\u001b[0m\n\u001b[0m\u001b[0;32m     97\u001b[0m \u001b[1;33m\u001b[0m\u001b[0m\n\u001b[0;32m     98\u001b[0m     \u001b[1;32mdef\u001b[0m \u001b[0mextra_repr\u001b[0m\u001b[1;33m(\u001b[0m\u001b[0mself\u001b[0m\u001b[1;33m)\u001b[0m \u001b[1;33m->\u001b[0m \u001b[0mstr\u001b[0m\u001b[1;33m:\u001b[0m\u001b[1;33m\u001b[0m\u001b[1;33m\u001b[0m\u001b[0m\n",
      "\u001b[1;32md:\\Projects\\machine-learning\\venv\\lib\\site-packages\\torch\\nn\\functional.py\u001b[0m in \u001b[0;36mlinear\u001b[1;34m(input, weight, bias)\u001b[0m\n\u001b[0;32m   1845\u001b[0m     \u001b[1;32mif\u001b[0m \u001b[0mhas_torch_function_variadic\u001b[0m\u001b[1;33m(\u001b[0m\u001b[0minput\u001b[0m\u001b[1;33m,\u001b[0m \u001b[0mweight\u001b[0m\u001b[1;33m)\u001b[0m\u001b[1;33m:\u001b[0m\u001b[1;33m\u001b[0m\u001b[1;33m\u001b[0m\u001b[0m\n\u001b[0;32m   1846\u001b[0m         \u001b[1;32mreturn\u001b[0m \u001b[0mhandle_torch_function\u001b[0m\u001b[1;33m(\u001b[0m\u001b[0mlinear\u001b[0m\u001b[1;33m,\u001b[0m \u001b[1;33m(\u001b[0m\u001b[0minput\u001b[0m\u001b[1;33m,\u001b[0m \u001b[0mweight\u001b[0m\u001b[1;33m)\u001b[0m\u001b[1;33m,\u001b[0m \u001b[0minput\u001b[0m\u001b[1;33m,\u001b[0m \u001b[0mweight\u001b[0m\u001b[1;33m,\u001b[0m \u001b[0mbias\u001b[0m\u001b[1;33m=\u001b[0m\u001b[0mbias\u001b[0m\u001b[1;33m)\u001b[0m\u001b[1;33m\u001b[0m\u001b[1;33m\u001b[0m\u001b[0m\n\u001b[1;32m-> 1847\u001b[1;33m     \u001b[1;32mreturn\u001b[0m \u001b[0mtorch\u001b[0m\u001b[1;33m.\u001b[0m\u001b[0m_C\u001b[0m\u001b[1;33m.\u001b[0m\u001b[0m_nn\u001b[0m\u001b[1;33m.\u001b[0m\u001b[0mlinear\u001b[0m\u001b[1;33m(\u001b[0m\u001b[0minput\u001b[0m\u001b[1;33m,\u001b[0m \u001b[0mweight\u001b[0m\u001b[1;33m,\u001b[0m \u001b[0mbias\u001b[0m\u001b[1;33m)\u001b[0m\u001b[1;33m\u001b[0m\u001b[1;33m\u001b[0m\u001b[0m\n\u001b[0m\u001b[0;32m   1848\u001b[0m \u001b[1;33m\u001b[0m\u001b[0m\n\u001b[0;32m   1849\u001b[0m \u001b[1;33m\u001b[0m\u001b[0m\n",
      "\u001b[1;31mRuntimeError\u001b[0m: mat1 and mat2 shapes cannot be multiplied (3584x28 and 784x10)"
     ]
    }
   ],
   "metadata": {}
  },
  {
   "cell_type": "markdown",
   "source": [
    "The code above leads to an error because our input data does not have the right shape. Our images are of the shape 1x28x28, but we need them to be vectors of size 784, i.e., we need to flatten them. We'll use the `.reshape` method of a tensor, which will allow us to efficiently 'view' each image as a flat vector without really creating a copy of the underlying data. To include this additional functionality within our model, we need to define a custom model by extending the `nn.Module` class from PyTorch. \r\n",
    "\r\n",
    "A class in Python provides a \"blueprint\" for creating objects. Let's look at an example of defining a new class in Python."
   ],
   "metadata": {}
  },
  {
   "cell_type": "code",
   "execution_count": 20,
   "source": [
    "images.shape"
   ],
   "outputs": [
    {
     "output_type": "execute_result",
     "data": {
      "text/plain": [
       "torch.Size([128, 1, 28, 28])"
      ]
     },
     "metadata": {},
     "execution_count": 20
    }
   ],
   "metadata": {}
  },
  {
   "cell_type": "code",
   "execution_count": 21,
   "source": [
    "images.reshape(128, 28*28)"
   ],
   "outputs": [
    {
     "output_type": "execute_result",
     "data": {
      "text/plain": [
       "tensor([[0., 0., 0.,  ..., 0., 0., 0.],\n",
       "        [0., 0., 0.,  ..., 0., 0., 0.],\n",
       "        [0., 0., 0.,  ..., 0., 0., 0.],\n",
       "        ...,\n",
       "        [0., 0., 0.,  ..., 0., 0., 0.],\n",
       "        [0., 0., 0.,  ..., 0., 0., 0.],\n",
       "        [0., 0., 0.,  ..., 0., 0., 0.]])"
      ]
     },
     "metadata": {},
     "execution_count": 21
    }
   ],
   "metadata": {}
  },
  {
   "cell_type": "code",
   "execution_count": 22,
   "source": [
    "class MnistModel(nn.Module):\r\n",
    "    def __init__(self):\r\n",
    "        super().__init__()\r\n",
    "        self.linear = nn.Linear(input_size, num_classes)\r\n",
    "\r\n",
    "    def forward(self, xb):\r\n",
    "        xb = xb.reshape(-1, 784)\r\n",
    "        out = self.linear(xb)\r\n",
    "        return out\r\n",
    "\r\n",
    "model = MnistModel()"
   ],
   "outputs": [],
   "metadata": {}
  },
  {
   "cell_type": "markdown",
   "source": [
    "`xb.reshape(-1, 28*28)` indicates to PyTorch that we want a *view* of the `xb` tensor with two dimensions. The length along the 2nd dimension is 28\\*28 (i.e., 784). One argument to `.reshape` can be set to `-1` (in this case, the first dimension) to let PyTorch figure it out automatically based on the shape of the original tensor.\r\n",
    "\r\n",
    "Note that the model no longer has `.weight` and `.bias` attributes (as they are now inside the `.linear` attribute), but it does have a `.parameters` method that returns a list containing the weights and bias."
   ],
   "metadata": {}
  },
  {
   "cell_type": "code",
   "execution_count": 23,
   "source": [
    "model.linear.weight, model.linear.bias"
   ],
   "outputs": [
    {
     "output_type": "execute_result",
     "data": {
      "text/plain": [
       "(Parameter containing:\n",
       " tensor([[ 0.0247,  0.0166,  0.0050,  ..., -0.0215, -0.0352,  0.0080],\n",
       "         [-0.0167, -0.0100,  0.0269,  ..., -0.0102,  0.0243, -0.0002],\n",
       "         [ 0.0218, -0.0316,  0.0021,  ...,  0.0012, -0.0129, -0.0091],\n",
       "         ...,\n",
       "         [-0.0283,  0.0134, -0.0249,  ..., -0.0188, -0.0232, -0.0346],\n",
       "         [-0.0283, -0.0160,  0.0197,  ...,  0.0104, -0.0229, -0.0244],\n",
       "         [-0.0276, -0.0239, -0.0113,  ..., -0.0169, -0.0259,  0.0232]],\n",
       "        requires_grad=True),\n",
       " Parameter containing:\n",
       " tensor([-0.0092,  0.0252,  0.0217,  0.0077,  0.0064, -0.0271,  0.0158,  0.0356,\n",
       "         -0.0107, -0.0264], requires_grad=True))"
      ]
     },
     "metadata": {},
     "execution_count": 23
    }
   ],
   "metadata": {}
  },
  {
   "cell_type": "code",
   "execution_count": 24,
   "source": [
    "list(model.parameters())"
   ],
   "outputs": [
    {
     "output_type": "execute_result",
     "data": {
      "text/plain": [
       "[Parameter containing:\n",
       " tensor([[ 0.0247,  0.0166,  0.0050,  ..., -0.0215, -0.0352,  0.0080],\n",
       "         [-0.0167, -0.0100,  0.0269,  ..., -0.0102,  0.0243, -0.0002],\n",
       "         [ 0.0218, -0.0316,  0.0021,  ...,  0.0012, -0.0129, -0.0091],\n",
       "         ...,\n",
       "         [-0.0283,  0.0134, -0.0249,  ..., -0.0188, -0.0232, -0.0346],\n",
       "         [-0.0283, -0.0160,  0.0197,  ...,  0.0104, -0.0229, -0.0244],\n",
       "         [-0.0276, -0.0239, -0.0113,  ..., -0.0169, -0.0259,  0.0232]],\n",
       "        requires_grad=True),\n",
       " Parameter containing:\n",
       " tensor([-0.0092,  0.0252,  0.0217,  0.0077,  0.0064, -0.0271,  0.0158,  0.0356,\n",
       "         -0.0107, -0.0264], requires_grad=True)]"
      ]
     },
     "metadata": {},
     "execution_count": 24
    }
   ],
   "metadata": {}
  },
  {
   "cell_type": "code",
   "execution_count": 25,
   "source": [
    "for images, labels in train_dl:\r\n",
    "    outputs = model(images)\r\n",
    "    break\r\n",
    "\r\n",
    "outputs.shape, outputs[:2].data"
   ],
   "outputs": [
    {
     "output_type": "execute_result",
     "data": {
      "text/plain": [
       "(torch.Size([128, 10]),\n",
       " tensor([[-0.0547, -0.0134, -0.0419,  0.1515,  0.1109, -0.1277,  0.2058,  0.2180,\n",
       "           0.1932, -0.1039],\n",
       "         [-0.4370, -0.1695, -0.1081, -0.2481,  0.2956,  0.3238,  0.3282,  0.2125,\n",
       "          -0.3831,  0.2230]]))"
      ]
     },
     "metadata": {},
     "execution_count": 25
    }
   ],
   "metadata": {}
  },
  {
   "cell_type": "markdown",
   "source": [
    "For each of the 100 input images, we get 10 outputs, one for each class. As discussed earlier, we'd like these outputs to represent probabilities. Each output row's elements must lie between 0 to 1 and add up to 1, which is not the case. \r\n",
    "\r\n",
    "To convert the output rows into probabilities, we use the softmax function, which has the following formula:\r\n",
    "\r\n",
    "![softmax](https://i.imgur.com/EAh9jLN.png)\r\n",
    "\r\n",
    "Then, we divide them by their sum to ensure that they add up to 1. The resulting vector can thus be interpreted as probabilities.\r\n",
    "\r\n",
    "While it's easy to implement the softmax function (you should try it!), we'll use the implementation that's provided within PyTorch because it works well with multidimensional tensors (a list of output rows in our case)."
   ],
   "metadata": {}
  },
  {
   "cell_type": "code",
   "execution_count": 26,
   "source": [
    "import torch.nn.functional as F"
   ],
   "outputs": [],
   "metadata": {}
  },
  {
   "cell_type": "code",
   "execution_count": 27,
   "source": [
    "probs = F.softmax(outputs, dim=1)\r\n",
    "\r\n",
    "print(f'Sample probabilities: {probs[:2].data}')\r\n",
    "\r\n",
    "print(f\"Sum: {torch.sum(probs[0]).item()}\")"
   ],
   "outputs": [
    {
     "output_type": "stream",
     "name": "stdout",
     "text": [
      "Sample probabilities: tensor([[0.0890, 0.0927, 0.0901, 0.1094, 0.1050, 0.0827, 0.1155, 0.1169, 0.1140,\n",
      "         0.0847],\n",
      "        [0.0618, 0.0808, 0.0859, 0.0747, 0.1286, 0.1323, 0.1329, 0.1183, 0.0652,\n",
      "         0.1196]])\n",
      "Sum: 1.0\n"
     ]
    }
   ],
   "metadata": {}
  },
  {
   "cell_type": "markdown",
   "source": [
    "Finally, we can determine the predicted label for each image by simply choosing the index of the element with the highest probability in each output row. We can do this using `torch.max`, which returns each row's largest element and the corresponding index."
   ],
   "metadata": {}
  },
  {
   "cell_type": "code",
   "execution_count": 28,
   "source": [
    "max_probs, preds = torch.max(probs, dim=1)\r\n",
    "\r\n",
    "preds, labels"
   ],
   "outputs": [
    {
     "output_type": "execute_result",
     "data": {
      "text/plain": [
       "(tensor([7, 6, 6, 0, 4, 5, 7, 5, 7, 6, 6, 7, 8, 9, 6, 7, 7, 7, 7, 5, 7, 9, 7, 2,\n",
       "         9, 7, 6, 2, 2, 6, 7, 1, 7, 8, 6, 9, 7, 7, 9, 7, 9, 3, 7, 7, 7, 1, 7, 7,\n",
       "         7, 9, 6, 9, 7, 7, 6, 7, 7, 6, 7, 6, 7, 7, 7, 6, 0, 6, 9, 3, 7, 9, 6, 6,\n",
       "         6, 3, 7, 6, 4, 6, 8, 6, 7, 6, 7, 1, 7, 0, 7, 6, 6, 2, 4, 6, 6, 9, 6, 4,\n",
       "         5, 7, 5, 7, 7, 6, 7, 6, 6, 4, 6, 7, 7, 7, 6, 8, 5, 7, 7, 7, 7, 6, 4, 6,\n",
       "         7, 6, 6, 4, 7, 2, 6, 7]),\n",
       " tensor([9, 0, 3, 1, 7, 7, 2, 4, 9, 0, 3, 8, 7, 1, 0, 7, 4, 5, 3, 8, 9, 1, 4, 7,\n",
       "         1, 5, 8, 7, 6, 3, 6, 0, 8, 6, 3, 1, 6, 8, 7, 3, 1, 7, 9, 6, 3, 6, 4, 7,\n",
       "         3, 7, 6, 1, 4, 7, 1, 2, 4, 0, 0, 8, 8, 9, 2, 0, 1, 5, 1, 7, 8, 1, 0, 8,\n",
       "         2, 6, 9, 2, 8, 6, 7, 0, 3, 5, 9, 0, 4, 1, 6, 6, 8, 7, 2, 3, 5, 1, 0, 5,\n",
       "         3, 8, 7, 9, 9, 6, 3, 3, 6, 7, 6, 7, 8, 3, 0, 6, 7, 0, 3, 8, 6, 7, 5, 9,\n",
       "         8, 8, 2, 6, 5, 7, 6, 0]))"
      ]
     },
     "metadata": {},
     "execution_count": 28
    }
   ],
   "metadata": {}
  },
  {
   "cell_type": "markdown",
   "source": [
    "Most of the predicted labels are different from the actual labels. That's because we have started with randomly initialized weights and biases. We need to train the model, i.e., adjust the weights using gradient descent to make better predictions."
   ],
   "metadata": {}
  },
  {
   "cell_type": "markdown",
   "source": [
    "## Evaluation Metric and Loss Function"
   ],
   "metadata": {}
  },
  {
   "cell_type": "markdown",
   "source": [
    "Just as with linear regression, we need a way to evaluate how well our model is performing. A natural way to do this would be to find the percentage of labels that were predicted correctly, i.e,. the **accuracy** of the predictions. "
   ],
   "metadata": {}
  },
  {
   "cell_type": "code",
   "execution_count": 29,
   "source": [
    "def accuracy(preds, labels):\r\n",
    "    return torch.sum(preds == labels).item() / len(preds)"
   ],
   "outputs": [],
   "metadata": {}
  },
  {
   "cell_type": "markdown",
   "source": [
    "The `==` operator performs an element-wise comparison of two tensors with the same shape and returns a tensor of the same shape, containing `True` for unequal elements and `False` for equal elements. Passing the result to `torch.sum` returns the number of labels that were predicted correctly. Finally, we divide by the total number of images to get the accuracy. \r\n",
    "\r\n",
    "Note that we don't need to apply softmax to the outputs since its results have the same relative order. This is because `e^x` is an increasing function, i.e., if `y1 > y2`, then `e^y1 > e^y2`. The same holds after averaging out the values to get the softmax.\r\n",
    "\r\n",
    "Let's calculate the accuracy of the current model on the first batch of data. "
   ],
   "metadata": {}
  },
  {
   "cell_type": "code",
   "execution_count": 30,
   "source": [
    "accuracy(preds, labels)"
   ],
   "outputs": [
    {
     "output_type": "execute_result",
     "data": {
      "text/plain": [
       "0.0859375"
      ]
     },
     "metadata": {},
     "execution_count": 30
    }
   ],
   "metadata": {}
  },
  {
   "cell_type": "markdown",
   "source": [
    "Accuracy is an excellent way for us (humans) to evaluate the model. However, we can't use it as a loss function for optimizing our model using gradient descent for the following reasons:\r\n",
    "\r\n",
    "1. It's not a differentiable function. `torch.max` and `==` are both non-continuous and non-differentiable operations, so we can't use the accuracy for computing gradients w.r.t the weights and biases.\r\n",
    "\r\n",
    "2. It doesn't take into account the actual probabilities predicted by the model, so it can't provide sufficient feedback for incremental improvements. \r\n",
    "\r\n",
    "For these reasons, accuracy is often used as an **evaluation metric** for classification, but not as a loss function. A commonly used loss function for classification problems is the **cross-entropy**, which has the following formula:\r\n",
    "\r\n",
    "$$\r\n",
    "D(\\hat{y}, y) = - \\sum_{j}{y_j ln \\hat{y_j}}\r\n",
    "$$\r\n",
    "\r\n",
    "While it looks complicated, it's actually quite simple:\r\n",
    "\r\n",
    "* For each output row, pick the predicted probability for the correct label. E.g., if the predicted probabilities for an image are `[0.1, 0.3, 0.2, ...]` and the correct label is `1`, we pick the corresponding element `0.3` and ignore the rest.\r\n",
    "\r\n",
    "* Then, take the [logarithm](https://en.wikipedia.org/wiki/Logarithm) of the picked probability. If the probability is high, i.e., close to 1, then its logarithm is a very small negative value, close to 0. And if the probability is low (close to 0), then the logarithm is a very large negative value. We also multiply the result by -1, which results is a large postive value of the loss for poor predictions.\r\n",
    "\r\n",
    "![](https://www.intmath.com/blog/wp-content/images/2019/05/log10.png)\r\n",
    "\r\n",
    "* Finally, take the average of the cross entropy across all the output rows to get the overall loss for a batch of data.\r\n",
    "\r\n",
    "Unlike accuracy, cross-entropy is a continuous and differentiable function. It also provides useful feedback for incremental improvements in the model (a slightly higher probability for the correct label leads to a lower loss). These two factors make cross-entropy a better choice for the loss function.\r\n",
    "\r\n",
    "As you might expect, PyTorch provides an efficient and tensor-friendly implementation of cross-entropy as part of the `torch.nn.functional` package. Moreover, it also performs softmax internally, so we can directly pass in the model's outputs without converting them into probabilities."
   ],
   "metadata": {}
  },
  {
   "cell_type": "code",
   "execution_count": 31,
   "source": [
    "loss_fn = F.cross_entropy"
   ],
   "outputs": [],
   "metadata": {}
  },
  {
   "cell_type": "code",
   "execution_count": 32,
   "source": [
    "loss = loss_fn(outputs, labels)\r\n",
    "loss"
   ],
   "outputs": [
    {
     "output_type": "execute_result",
     "data": {
      "text/plain": [
       "tensor(2.3231, grad_fn=<NllLossBackward>)"
      ]
     },
     "metadata": {},
     "execution_count": 32
    }
   ],
   "metadata": {}
  },
  {
   "cell_type": "markdown",
   "source": [
    "We know that cross-entropy is the negative logarithm of the predicted probability of the correct label averaged over all training samples. Therefore, one way to interpret the resulting number e.g. `2.23` is look at `e^-2.23` which is around `0.1` as the predicted probability of the correct label, on average. *The lower the loss, The better the model.*"
   ],
   "metadata": {}
  },
  {
   "cell_type": "markdown",
   "source": [
    "## Training the model\r\n",
    "\r\n",
    "Now that we have defined the data loaders, model, loss function and optimizer, we are ready to train the model. The training process is identical to linear regression, with the addition of a \"validation phase\" to evaluate the model in each epoch. Here's what it looks like in pseudocode:\r\n",
    "\r\n",
    "```\r\n",
    "for epoch in range(num_epochs):\r\n",
    "    # Training phase\r\n",
    "    for batch in train_loader:\r\n",
    "        # Generate predictions\r\n",
    "        # Calculate loss\r\n",
    "        # Compute gradients\r\n",
    "        # Update weights\r\n",
    "        # Reset gradients\r\n",
    "    \r\n",
    "    # Validation phase\r\n",
    "    for batch in val_loader:\r\n",
    "        # Generate predictions\r\n",
    "        # Calculate loss\r\n",
    "        # Calculate metrics (accuracy etc.)\r\n",
    "    # Calculate average validation loss & metrics\r\n",
    "    \r\n",
    "    # Log epoch, loss & metrics for inspection\r\n",
    "```\r\n",
    "\r\n",
    "Some parts of the training loop are specific the specific problem we're solving (e.g. loss function, metrics etc.) whereas others are generic and can be applied to any deep learning problem. \r\n",
    "\r\n",
    "We'll include the problem-independent parts within a function called `fit`, which will be used to train the model. The problem-specific parts will be implemented by adding new methods to the `nn.Module` class."
   ],
   "metadata": {}
  },
  {
   "cell_type": "code",
   "execution_count": 33,
   "source": [
    "def loss_batch(model, loss_fn, xb, yb, opt=None, metric=None):\r\n",
    "    # calculate loss\r\n",
    "    outputs = model(xb)\r\n",
    "    loss = loss_fn(outputs, yb)\r\n",
    "\r\n",
    "    if opt is not None:\r\n",
    "        # compute gradients\r\n",
    "        loss.backward()\r\n",
    "        # update params\r\n",
    "        opt.step()\r\n",
    "        # Reset gradients\r\n",
    "        opt.zero_grad()\r\n",
    "\r\n",
    "    metric_result = None\r\n",
    "    if metric is not None:\r\n",
    "        # compute the metric\r\n",
    "        # print(metric)\r\n",
    "        metric_result = metric(outputs, yb)\r\n",
    "\r\n",
    "    return loss.item(), len(xb), metric_result"
   ],
   "outputs": [],
   "metadata": {}
  },
  {
   "cell_type": "markdown",
   "source": [
    "The optimizer is an optional argument to ensure we can reuse `loss_batch` on the validation set. We also return the length of the batch as it is useful while combining the losses/metrics for the entire dataset."
   ],
   "metadata": {}
  },
  {
   "cell_type": "markdown",
   "source": [
    "Next we define the evaluation function which calculates the overall loss (and metric if provided) for the validation set"
   ],
   "metadata": {}
  },
  {
   "cell_type": "code",
   "execution_count": 34,
   "source": [
    "def evaluate(model, loss_fn, valid_dl, metric=None):\r\n",
    "    with torch.no_grad():\r\n",
    "        # Pass each batch into the model\r\n",
    "        results = [loss_batch(model, loss_fn, xb, yb, metric=metric) for xb, yb in valid_dl]\r\n",
    "        \r\n",
    "        # separate losses, nums and metrics\r\n",
    "        losses, nums, metrics = zip(*results)\r\n",
    "\r\n",
    "        #Total size of the dataset\r\n",
    "        total = np.sum(nums)\r\n",
    "\r\n",
    "        # Avg loss\r\n",
    "        avg_loss = np.sum(np.multiply(losses, nums)) / total\r\n",
    "\r\n",
    "        #Avg metric\r\n",
    "        avg_metric = None\r\n",
    "        if metric is not None:\r\n",
    "            avg_metric = np.sum(np.multiply(metrics, nums)) / total\r\n",
    "\r\n",
    "        return avg_loss, total, avg_metric"
   ],
   "outputs": [],
   "metadata": {}
  },
  {
   "cell_type": "markdown",
   "source": [
    "We also need to define `accuracy` to operate on a batch of outputs directly, so that we use it as a metric."
   ],
   "metadata": {}
  },
  {
   "cell_type": "code",
   "execution_count": 35,
   "source": [
    "def accuracy(l_1, l_2):\r\n",
    "    max_probs, preds = torch.max(l_1, dim=1)\r\n",
    "    return torch.sum(preds == l_2).item() / len(preds)"
   ],
   "outputs": [],
   "metadata": {}
  },
  {
   "cell_type": "markdown",
   "source": [
    "Let's see how the model performs on the validation set with the initial weights and biases."
   ],
   "metadata": {}
  },
  {
   "cell_type": "code",
   "execution_count": 58,
   "source": [
    "val_loss, total, val_accuracy = evaluate(model, loss_fn, val_dl, metric=accuracy)\r\n",
    "print(f\"Loss: {val_loss}, Accuracy: {val_accuracy}\")"
   ],
   "outputs": [
    {
     "output_type": "stream",
     "name": "stdout",
     "text": [
      "Loss: 2.315829353713989, Accuracy: 0.0908\n"
     ]
    }
   ],
   "metadata": {}
  },
  {
   "cell_type": "markdown",
   "source": [
    "We can now define the `fit` function quite easily with `loss_batch` and `evaluate`."
   ],
   "metadata": {}
  },
  {
   "cell_type": "code",
   "execution_count": 63,
   "source": [
    "def fit(epochs, model, loss_fn, opt, train_loader, valid_loader, metric=None):\r\n",
    "    history = []\r\n",
    "\r\n",
    "    for epoch in range(epochs):\r\n",
    "        # Training\r\n",
    "        total_loss = 0\r\n",
    "        total = 0\r\n",
    "        total_metric = 0\r\n",
    "        for xb, yb in train_loader:\r\n",
    "            loss, num, metrics = loss_batch(model, loss_fn, xb, yb, opt=opt, metric=metric)\r\n",
    "            total_loss += (loss*num)\r\n",
    "            total_metric += (metrics*num)\r\n",
    "            total += num\r\n",
    "        \r\n",
    "        epoch_loss = total_loss / total\r\n",
    "        epoch_metric = total_metric / total\r\n",
    "\r\n",
    "        # Evaluation\r\n",
    "        val_loss, total, val_metric = evaluate(model, loss_fn, valid_loader, metric)\r\n",
    "\r\n",
    "        if metric is not None:\r\n",
    "            print(f\"Epoch [{epoch}/{epochs}], Loss: {epoch_loss}, {metric.__name__}: {epoch_metric}, Validation loss: {val_loss}, Validation {metric.__name__}: {val_metric}\")\r\n",
    "        else:\r\n",
    "            print(f\"Epoch [{epoch}/{epochs}], Validation loss: {val_loss}\")\r\n",
    "\r\n",
    "        history.append((epoch_loss, epoch_metric))\r\n",
    "    return history"
   ],
   "outputs": [],
   "metadata": {}
  },
  {
   "cell_type": "markdown",
   "source": [
    "The model uses the following hyperparameters:\r\n",
    "- **Optimizer**: SGD (Stochastic Gradient Descent)\r\n",
    "- **Learning rate**: 0.001\r\n",
    "- **Batch size**: 128\r\n",
    "- **Architecture**: Linear (x1)"
   ],
   "metadata": {}
  },
  {
   "cell_type": "code",
   "execution_count": 64,
   "source": [
    "loss_fn = F.cross_entropy\r\n",
    "learning_rate = 1e-3\r\n",
    "model = MnistModel()\r\n",
    "opt = torch.optim.SGD(model.parameters(), lr=learning_rate)"
   ],
   "outputs": [],
   "metadata": {}
  },
  {
   "cell_type": "code",
   "execution_count": 65,
   "source": [
    "history = fit(20, model, loss_fn, opt, train_dl, val_dl, metric=accuracy)"
   ],
   "outputs": [
    {
     "output_type": "stream",
     "name": "stdout",
     "text": [
      "Epoch [0/20], Loss: 2.140861667442322, accuracy: 0.371, Validation loss: 1.9624681346893311, Validation accuracy: 0.6121\n",
      "Epoch [1/20], Loss: 1.816942553062439, accuracy: 0.68352, Validation loss: 1.6899030155181884, Validation accuracy: 0.716\n",
      "Epoch [2/20], Loss: 1.580763021774292, accuracy: 0.74276, Validation loss: 1.487311454963684, Validation accuracy: 0.7563\n",
      "Epoch [3/20], Loss: 1.4037982587432862, accuracy: 0.77052, Validation loss: 1.3343827072143555, Validation accuracy: 0.7799\n",
      "Epoch [4/20], Loss: 1.2691380861282349, accuracy: 0.78788, Validation loss: 1.216899946975708, Validation accuracy: 0.7934\n",
      "Epoch [5/20], Loss: 1.1646036275100708, accuracy: 0.8, Validation loss: 1.124830436897278, Validation accuracy: 0.8031\n",
      "Epoch [6/20], Loss: 1.081734670600891, accuracy: 0.80856, Validation loss: 1.0509935844421388, Validation accuracy: 0.8099\n",
      "Epoch [7/20], Loss: 1.014653072052002, accuracy: 0.81646, Validation loss: 0.9906365640640259, Validation accuracy: 0.8155\n",
      "Epoch [8/20], Loss: 0.9593621072769165, accuracy: 0.82194, Validation loss: 0.9405154296875, Validation accuracy: 0.8201\n",
      "Epoch [9/20], Loss: 0.9130073902702331, accuracy: 0.82598, Validation loss: 0.898158735370636, Validation accuracy: 0.8262\n",
      "Epoch [10/20], Loss: 0.8735896343803405, accuracy: 0.82966, Validation loss: 0.8618671445846557, Validation accuracy: 0.8296\n",
      "Epoch [11/20], Loss: 0.8396448728942871, accuracy: 0.83332, Validation loss: 0.8304873588562012, Validation accuracy: 0.8337\n",
      "Epoch [12/20], Loss: 0.8101019291877747, accuracy: 0.83654, Validation loss: 0.8029677827835083, Validation accuracy: 0.8365\n",
      "Epoch [13/20], Loss: 0.7841279550552368, accuracy: 0.83894, Validation loss: 0.77863854637146, Validation accuracy: 0.8403\n",
      "Epoch [14/20], Loss: 0.761089070930481, accuracy: 0.84174, Validation loss: 0.7569774991035462, Validation accuracy: 0.8428\n",
      "Epoch [15/20], Loss: 0.7405068202590942, accuracy: 0.84402, Validation loss: 0.7375740149497986, Validation accuracy: 0.8446\n",
      "Epoch [16/20], Loss: 0.7219881425476075, accuracy: 0.84634, Validation loss: 0.7201201783180237, Validation accuracy: 0.8463\n",
      "Epoch [17/20], Loss: 0.7052360550689697, accuracy: 0.84798, Validation loss: 0.7042357745170593, Validation accuracy: 0.8488\n",
      "Epoch [18/20], Loss: 0.6899894264411927, accuracy: 0.84966, Validation loss: 0.6896507455825805, Validation accuracy: 0.8507\n",
      "Epoch [19/20], Loss: 0.6760429351425171, accuracy: 0.85112, Validation loss: 0.6764113671302795, Validation accuracy: 0.8518\n"
     ]
    }
   ],
   "metadata": {}
  },
  {
   "cell_type": "code",
   "execution_count": 66,
   "source": [
    "losses, metrics = zip(*history)\r\n",
    "plt.plot(metrics, '-x')\r\n",
    "plt.xlabel('epoch')\r\n",
    "plt.ylabel('accuracy')\r\n",
    "plt.title('Accuracy vs no. of epochs')"
   ],
   "outputs": [
    {
     "output_type": "execute_result",
     "data": {
      "text/plain": [
       "Text(0.5, 1.0, 'Accuracy vs no. of epochs')"
      ]
     },
     "metadata": {},
     "execution_count": 66
    },
    {
     "output_type": "display_data",
     "data": {
      "text/plain": [
       "<Figure size 432x288 with 1 Axes>"
      ],
      "image/png": "[encoded data removed]"
     },
     "metadata": {
      "needs_background": "dark"
     }
    }
   ],
   "metadata": {}
  },
  {
   "cell_type": "code",
   "execution_count": 67,
   "source": [
    "plt.plot(losses, '-x')\r\n",
    "plt.xlabel('epoch')\r\n",
    "plt.ylabel('loss')\r\n",
    "plt.title('Loss vs no. of epochs')"
   ],
   "outputs": [
    {
     "output_type": "execute_result",
     "data": {
      "text/plain": [
       "Text(0.5, 1.0, 'Loss vs no. of epochs')"
      ]
     },
     "metadata": {},
     "execution_count": 67
    },
    {
     "output_type": "display_data",
     "data": {
      "text/plain": [
       "<Figure size 432x288 with 1 Axes>"
      ],
      "image/png": "[encoded data removed]"
     },
     "metadata": {
      "needs_background": "dark"
     }
    }
   ],
   "metadata": {}
  },
  {
   "cell_type": "markdown",
   "source": [
    "It's quite clear from the above picture that the model probably won't cross the accuracy threshold of 90% even after training for a very long time. One possible reason for this is that the learning rate might be too high. The model's parameters may be \"bouncing\" around the optimal set of parameters for the lowest loss. You can try reducing the learning rate and training for a few more epochs to see if it helps.\r\n",
    "\r\n",
    "The more likely reason that **the model just isn't powerful enough**. If you remember our initial hypothesis, we have assumed that the output (in this case the class probabilities) is a **linear function** of the input (pixel intensities), obtained by perfoming a matrix multiplication with the weights matrix and adding the bias. This is a fairly weak assumption, as there may not actually exist a linear relationship between the pixel intensities in an image and the digit it represents. While it works reasonably well for a simple dataset like MNIST (getting us to 85% accuracy), we need more sophisticated models that can capture non-linear relationships between image pixels and labels for complex tasks like recognizing everyday objects, animals etc. "
   ],
   "metadata": {}
  },
  {
   "cell_type": "code",
   "execution_count": 70,
   "source": [
    "test_dataset = MNIST(root='data/', train=False, transform=transforms.ToTensor())"
   ],
   "outputs": [],
   "metadata": {}
  },
  {
   "cell_type": "code",
   "execution_count": 71,
   "source": [
    "img, label = test_dataset[0]\r\n",
    "plt.imshow(img[0, :, :], cmap= 'gray')\r\n",
    "print(f\"Shape: {img.shape}\")\r\n",
    "print(f\"Label: {label}\")"
   ],
   "outputs": [
    {
     "output_type": "stream",
     "name": "stdout",
     "text": [
      "Shape: torch.Size([1, 28, 28])\n",
      "Label: 7\n"
     ]
    },
    {
     "output_type": "display_data",
     "data": {
      "text/plain": [
       "<Figure size 432x288 with 1 Axes>"
      ],
      "image/png": "[encoded data removed]"
     },
     "metadata": {
      "needs_background": "dark"
     }
    }
   ],
   "metadata": {}
  },
  {
   "cell_type": "code",
   "execution_count": 72,
   "source": [
    "def predict_image(img, model):\r\n",
    "    x = img.unsqueeze(0)\r\n",
    "    y = model(x)\r\n",
    "    max_probs, preds = torch.max(y, dim=1)\r\n",
    "    return preds.squeeze().item()"
   ],
   "outputs": [],
   "metadata": {}
  },
  {
   "cell_type": "markdown",
   "source": [
    "The reason we use `.unsqueeze`, is the model expects a tensor with 4 dimensions, that has a shape of `(batch_size, 1, 28, 28)` but our individual images have the shape of `(1, 28, 28)`. Unsqueeze adds and extra dimension and the specified dimension index. So we use it add the extra batch dimension, so each image becomes a batch of just one image: shape of `(1, 1 28, 28)`"
   ],
   "metadata": {}
  },
  {
   "cell_type": "code",
   "execution_count": 77,
   "source": [
    "# Change the index to try out different images in the test dataset\r\n",
    "index = 1839\r\n",
    "img, label = test_dataset[index]\r\n",
    "pred = predict_image(img, model)\r\n",
    "plt.imshow(img[0, :, :], cmap= 'gray')\r\n",
    "print(f\"Label: {label}, Predicted: {pred}\")"
   ],
   "outputs": [
    {
     "output_type": "stream",
     "name": "stdout",
     "text": [
      "Label: 2, Predicted: 8\n"
     ]
    },
    {
     "output_type": "display_data",
     "data": {
      "text/plain": [
       "<Figure size 432x288 with 1 Axes>"
      ],
      "image/png": "[encoded data removed]"
     },
     "metadata": {
      "needs_background": "dark"
     }
    }
   ],
   "metadata": {}
  },
  {
   "cell_type": "markdown",
   "source": [
    "Identifying where our model performs poorly can help us improve the model, by collecting more training data, increasing/decreasing the complexity of the model, and changing the hypeparameters.\r\n",
    "\r\n",
    "As a final step, let's also look at the overall loss and accuracy of the model on the test set."
   ],
   "metadata": {}
  },
  {
   "cell_type": "code",
   "execution_count": 78,
   "source": [
    "test_loader = DataLoader(test_dataset, batch_size=200)\r\n",
    "\r\n",
    "test_loss, total, test_acc = evaluate(model, loss_fn, test_loader, metric=accuracy)\r\n",
    "print(f\"Loss {test_loss}, Accuracy: {test_acc}\")"
   ],
   "outputs": [
    {
     "output_type": "stream",
     "name": "stdout",
     "text": [
      "Loss 0.6454753756523133, Accuracy: 0.8617\n"
     ]
    }
   ],
   "metadata": {}
  },
  {
   "cell_type": "markdown",
   "source": [
    "We expect this to be similar to the accuracy/loss on the validation set. If not, we might need a better validation set that has similar data and distribution as the test set (which often comes from real world data)."
   ],
   "metadata": {}
  },
  {
   "cell_type": "markdown",
   "source": [
    "## Saving and loading the model"
   ],
   "metadata": {}
  },
  {
   "cell_type": "markdown",
   "source": [
    "Since we've trained our model for a long time and achieved a resonable accuracy, it would be a good idea to save the weights and bias matrices to disk, so that we can reuse the model later and avoid retraining from scratch. Here's how you can save the model."
   ],
   "metadata": {}
  },
  {
   "cell_type": "code",
   "execution_count": 79,
   "source": [
    "torch.save(model.state_dict(), 'mnist-logistic-01.pth')"
   ],
   "outputs": [],
   "metadata": {}
  },
  {
   "cell_type": "markdown",
   "source": [
    "The `.state_dict` method returns an `OrderedDict` containing all the weights and bias matrices mapped to the right attributes of the model."
   ],
   "metadata": {}
  },
  {
   "cell_type": "code",
   "execution_count": 81,
   "source": [
    "model.state_dict()"
   ],
   "outputs": [
    {
     "output_type": "execute_result",
     "data": {
      "text/plain": [
       "OrderedDict([('linear.weight',\n",
       "              tensor([[-0.0050, -0.0296, -0.0329,  ..., -0.0208, -0.0051,  0.0263],\n",
       "                      [ 0.0346, -0.0085,  0.0224,  ...,  0.0037, -0.0334, -0.0022],\n",
       "                      [-0.0276,  0.0148,  0.0217,  ...,  0.0071,  0.0005,  0.0208],\n",
       "                      ...,\n",
       "                      [-0.0116,  0.0137,  0.0274,  ..., -0.0112, -0.0124,  0.0155],\n",
       "                      [-0.0009, -0.0052,  0.0244,  ...,  0.0106, -0.0280,  0.0062],\n",
       "                      [ 0.0113, -0.0020, -0.0154,  ...,  0.0117, -0.0205, -0.0007]])),\n",
       "             ('linear.bias',\n",
       "              tensor([-0.0621,  0.0943, -0.0270, -0.0459,  0.0115,  0.0052, -0.0411,  0.0293,\n",
       "                      -0.0845,  0.0035]))])"
      ]
     },
     "metadata": {},
     "execution_count": 81
    }
   ],
   "metadata": {}
  },
  {
   "cell_type": "markdown",
   "source": [
    "To load the model weights, we can instante a new object of the class `MnistModel`, and use the `.load_state_dict` method."
   ],
   "metadata": {}
  },
  {
   "cell_type": "code",
   "execution_count": 82,
   "source": [
    "model2 = MnistModel()"
   ],
   "outputs": [],
   "metadata": {}
  },
  {
   "cell_type": "code",
   "execution_count": 85,
   "source": [
    "model2.load_state_dict(torch.load('mnist-logistic-01.pth'))\r\n",
    "model.state_dict()"
   ],
   "outputs": [
    {
     "output_type": "execute_result",
     "data": {
      "text/plain": [
       "OrderedDict([('linear.weight',\n",
       "              tensor([[-0.0050, -0.0296, -0.0329,  ..., -0.0208, -0.0051,  0.0263],\n",
       "                      [ 0.0346, -0.0085,  0.0224,  ...,  0.0037, -0.0334, -0.0022],\n",
       "                      [-0.0276,  0.0148,  0.0217,  ...,  0.0071,  0.0005,  0.0208],\n",
       "                      ...,\n",
       "                      [-0.0116,  0.0137,  0.0274,  ..., -0.0112, -0.0124,  0.0155],\n",
       "                      [-0.0009, -0.0052,  0.0244,  ...,  0.0106, -0.0280,  0.0062],\n",
       "                      [ 0.0113, -0.0020, -0.0154,  ...,  0.0117, -0.0205, -0.0007]])),\n",
       "             ('linear.bias',\n",
       "              tensor([-0.0621,  0.0943, -0.0270, -0.0459,  0.0115,  0.0052, -0.0411,  0.0293,\n",
       "                      -0.0845,  0.0035]))])"
      ]
     },
     "metadata": {},
     "execution_count": 85
    }
   ],
   "metadata": {}
  },
  {
   "cell_type": "code",
   "execution_count": 84,
   "source": [
    "evaluate(model, loss_fn, test_loader, metric=accuracy)"
   ],
   "outputs": [
    {
     "output_type": "execute_result",
     "data": {
      "text/plain": [
       "(0.6454753756523133, 10000, 0.8617)"
      ]
     },
     "metadata": {},
     "execution_count": 84
    }
   ],
   "metadata": {}
  },
  {
   "cell_type": "code",
   "execution_count": 86,
   "source": [
    "test_loss, total, test_acc = evaluate(model2, loss_fn, test_loader, metric=accuracy)\r\n",
    "print(f\"Loss {test_loss}, Accuracy: {test_acc}\")"
   ],
   "outputs": [
    {
     "output_type": "stream",
     "name": "stdout",
     "text": [
      "Loss 0.6454753756523133, Accuracy: 0.8617\n"
     ]
    }
   ],
   "metadata": {}
  },
  {
   "cell_type": "code",
   "execution_count": null,
   "source": [],
   "outputs": [],
   "metadata": {}
  }
 ],
 "metadata": {
  "orig_nbformat": 4,
  "language_info": {
   "name": "python",
   "version": "3.8.5",
   "mimetype": "text/x-python",
   "codemirror_mode": {
    "name": "ipython",
    "version": 3
   },
   "pygments_lexer": "ipython3",
   "nbconvert_exporter": "python",
   "file_extension": ".py"
  },
  "kernelspec": {
   "name": "python3",
   "display_name": "Python 3.8.5 64-bit ('venv': venv)"
  },
  "interpreter": {
   "hash": "93a6a9b76bfd63e02ab1b2bd2e6bc5ff501c9330c8c8db6caa76d3262061148d"
  }
 },
 "nbformat": 4,
 "nbformat_minor": 2
}