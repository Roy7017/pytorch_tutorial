{
 "cells": [
  {
   "cell_type": "markdown",
   "source": [
    "Follows YouTube PyTorch at <https://www.youtube.com/watch?v=GIsg-ZUy0MY>. "
   ],
   "metadata": {}
  },
  {
   "cell_type": "markdown",
   "source": [
    "We begin by importing Numpy and PyTorch"
   ],
   "metadata": {}
  },
  {
   "cell_type": "code",
   "execution_count": 1,
   "source": [
    "import torch\r\n",
    "import numpy as np"
   ],
   "outputs": [],
   "metadata": {}
  },
  {
   "cell_type": "markdown",
   "source": [
    "# Training Data"
   ],
   "metadata": {}
  },
  {
   "cell_type": "code",
   "execution_count": 3,
   "source": [
    "# Inputs: Temp, rainfall, humidity\r\n",
    "inputs = np.array([[73, 67, 43],\r\n",
    "                    [91, 88, 64],\r\n",
    "                    [87, 134, 58],\r\n",
    "                    [102, 43, 37],\r\n",
    "                    [69, 96, 70]], dtype='float32')"
   ],
   "outputs": [],
   "metadata": {}
  },
  {
   "cell_type": "code",
   "execution_count": 4,
   "source": [
    "# Targets: apples, oranges\r\n",
    "targets = np.array([[56, 70],\r\n",
    "                    [81, 101],\r\n",
    "                    [119, 133],\r\n",
    "                    [22, 37],\r\n",
    "                    [103, 119]], dtype='float32')"
   ],
   "outputs": [],
   "metadata": {}
  },
  {
   "cell_type": "code",
   "execution_count": 5,
   "source": [
    "inputs = torch.from_numpy(inputs)\r\n",
    "targets = torch.from_numpy(targets)\r\n",
    "inputs, targets"
   ],
   "outputs": [
    {
     "output_type": "execute_result",
     "data": {
      "text/plain": [
       "(tensor([[ 73.,  67.,  43.],\n",
       "         [ 91.,  88.,  64.],\n",
       "         [ 87., 134.,  58.],\n",
       "         [102.,  43.,  37.],\n",
       "         [ 69.,  96.,  70.]]),\n",
       " tensor([[ 56.,  70.],\n",
       "         [ 81., 101.],\n",
       "         [119., 133.],\n",
       "         [ 22.,  37.],\n",
       "         [103., 119.]]))"
      ]
     },
     "metadata": {},
     "execution_count": 5
    }
   ],
   "metadata": {}
  },
  {
   "cell_type": "markdown",
   "source": [
    "# Linear regression model from scratch\r\n",
    "\r\n",
    "The weights and biases can be represented as matrices. We will initialize them with random variables."
   ],
   "metadata": {}
  },
  {
   "cell_type": "code",
   "execution_count": 19,
   "source": [
    "# Weights and biases\r\n",
    "\r\n",
    "w = torch.randn(2, 3, requires_grad=True)\r\n",
    "b = torch.randn(2, requires_grad=True)\r\n",
    "w, b"
   ],
   "outputs": [
    {
     "output_type": "execute_result",
     "data": {
      "text/plain": [
       "(tensor([[ 0.2496, -0.5734, -0.0785],\n",
       "         [ 0.0747,  0.4011,  0.1388]], requires_grad=True),\n",
       " tensor([ 1.2700, -0.6162], requires_grad=True))"
      ]
     },
     "metadata": {},
     "execution_count": 19
    }
   ],
   "metadata": {}
  },
  {
   "cell_type": "markdown",
   "source": [
    "We can define our model as follows:"
   ],
   "metadata": {}
  },
  {
   "cell_type": "code",
   "execution_count": 20,
   "source": [
    "def model(x):\r\n",
    "    return x @ w.t() + b"
   ],
   "outputs": [],
   "metadata": {}
  },
  {
   "cell_type": "markdown",
   "source": [
    "`@` represents matrix multiplication in pytorch and `.t()` returns the transpose of the tensor."
   ],
   "metadata": {}
  },
  {
   "cell_type": "code",
   "execution_count": 21,
   "source": [
    "# Generate predictions\r\n",
    "preds = model(inputs)\r\n",
    "preds"
   ],
   "outputs": [
    {
     "output_type": "execute_result",
     "data": {
      "text/plain": [
       "tensor([[-22.3089,  37.6811],\n",
       "        [-31.5079,  50.3642],\n",
       "        [-58.4137,  67.6819],\n",
       "        [ -0.8377,  29.3896],\n",
       "        [-42.0570,  52.7616]], grad_fn=<AddBackward0>)"
      ]
     },
     "metadata": {},
     "execution_count": 21
    }
   ],
   "metadata": {}
  },
  {
   "cell_type": "markdown",
   "source": [
    "Of course the predictions are far off from the actual correct values. Our weights and biases were randomly initialized."
   ],
   "metadata": {}
  },
  {
   "cell_type": "code",
   "execution_count": 22,
   "source": [
    "targets"
   ],
   "outputs": [
    {
     "output_type": "execute_result",
     "data": {
      "text/plain": [
       "tensor([[ 56.,  70.],\n",
       "        [ 81., 101.],\n",
       "        [119., 133.],\n",
       "        [ 22.,  37.],\n",
       "        [103., 119.]])"
      ]
     },
     "metadata": {},
     "execution_count": 22
    }
   ],
   "metadata": {}
  },
  {
   "cell_type": "markdown",
   "source": [
    "# Loss function \r\n",
    "\r\n",
    " We use **mean squared error** to calculate how well the model is performing."
   ],
   "metadata": {}
  },
  {
   "cell_type": "code",
   "execution_count": 23,
   "source": [
    "def mse(t1, t2):\r\n",
    "    diff = t1 - t2\r\n",
    "    return torch.sum(diff * diff) / diff.numel()"
   ],
   "outputs": [],
   "metadata": {}
  },
  {
   "cell_type": "code",
   "execution_count": 24,
   "source": [
    "loss = mse(preds, targets)\r\n",
    "loss"
   ],
   "outputs": [
    {
     "output_type": "execute_result",
     "data": {
      "text/plain": [
       "tensor(8414.9443, grad_fn=<DivBackward0>)"
      ]
     },
     "metadata": {},
     "execution_count": 24
    }
   ],
   "metadata": {}
  },
  {
   "cell_type": "code",
   "execution_count": 25,
   "source": [
    "# Compute gradients\r\n",
    "loss.backward()"
   ],
   "outputs": [],
   "metadata": {}
  },
  {
   "cell_type": "code",
   "execution_count": 26,
   "source": [
    "w, w.grad"
   ],
   "outputs": [
    {
     "output_type": "execute_result",
     "data": {
      "text/plain": [
       "(tensor([[ 0.2496, -0.5734, -0.0785],\n",
       "         [ 0.0747,  0.4011,  0.1388]], requires_grad=True),\n",
       " tensor([[ -8745.6299, -10765.6660,  -6371.3545],\n",
       "         [ -3599.3047,  -4412.0156,  -2667.4255]]))"
      ]
     },
     "metadata": {},
     "execution_count": 26
    }
   ],
   "metadata": {}
  },
  {
   "cell_type": "code",
   "execution_count": 27,
   "source": [
    "b, b.grad"
   ],
   "outputs": [
    {
     "output_type": "execute_result",
     "data": {
      "text/plain": [
       "(tensor([ 1.2700, -0.6162], requires_grad=True),\n",
       " tensor([-107.2251,  -44.4243]))"
      ]
     },
     "metadata": {},
     "execution_count": 27
    }
   ],
   "metadata": {}
  },
  {
   "cell_type": "code",
   "execution_count": 28,
   "source": [
    "with torch.no_grad():\r\n",
    "    w -= w.grad * 1e-5\r\n",
    "    b -= b.grad * 1e-5\r\n",
    "    w.grad.zero_()\r\n",
    "    b.grad.zero_()"
   ],
   "outputs": [],
   "metadata": {}
  },
  {
   "cell_type": "code",
   "execution_count": 29,
   "source": [
    "preds = model(inputs)\r\n",
    "loss = mse(preds, targets)\r\n",
    "loss"
   ],
   "outputs": [
    {
     "output_type": "execute_result",
     "data": {
      "text/plain": [
       "tensor(5932.8032, grad_fn=<DivBackward0>)"
      ]
     },
     "metadata": {},
     "execution_count": 29
    }
   ],
   "metadata": {}
  },
  {
   "cell_type": "markdown",
   "source": [
    "Loss has reduced after on epoch of gradient descent. We will now train multiple epochs."
   ],
   "metadata": {}
  },
  {
   "cell_type": "markdown",
   "source": [
    "# Train multiple epochs"
   ],
   "metadata": {}
  },
  {
   "cell_type": "code",
   "execution_count": 33,
   "source": [
    "# Train for 100 epochs\r\n",
    "for i in range(100):\r\n",
    "    preds = model(inputs)\r\n",
    "    loss = mse(preds, targets)\r\n",
    "    loss.backward()\r\n",
    "    with torch.no_grad():\r\n",
    "        w -= w.grad * 1e-5\r\n",
    "        b -= b.grad * 1e-5\r\n",
    "        w.grad.zero_()\r\n",
    "        b.grad.zero_()"
   ],
   "outputs": [],
   "metadata": {}
  },
  {
   "cell_type": "code",
   "execution_count": 34,
   "source": [
    "preds = model(inputs)\r\n",
    "loss = mse(preds, targets)\r\n",
    "loss"
   ],
   "outputs": [
    {
     "output_type": "execute_result",
     "data": {
      "text/plain": [
       "tensor(80.2015, grad_fn=<DivBackward0>)"
      ]
     },
     "metadata": {},
     "execution_count": 34
    }
   ],
   "metadata": {}
  },
  {
   "cell_type": "code",
   "execution_count": 35,
   "source": [
    "preds, targets"
   ],
   "outputs": [
    {
     "output_type": "execute_result",
     "data": {
      "text/plain": [
       "(tensor([[ 60.8550,  71.9517],\n",
       "         [ 82.7685,  98.1023],\n",
       "         [111.4878, 136.1558],\n",
       "         [ 41.0978,  46.7907],\n",
       "         [ 91.4672, 108.8447]], grad_fn=<AddBackward0>),\n",
       " tensor([[ 56.,  70.],\n",
       "         [ 81., 101.],\n",
       "         [119., 133.],\n",
       "         [ 22.,  37.],\n",
       "         [103., 119.]]))"
      ]
     },
     "metadata": {},
     "execution_count": 35
    }
   ],
   "metadata": {}
  },
  {
   "cell_type": "code",
   "execution_count": null,
   "source": [],
   "outputs": [],
   "metadata": {}
  }
 ],
 "metadata": {
  "orig_nbformat": 4,
  "language_info": {
   "name": "python",
   "version": "3.8.5",
   "mimetype": "text/x-python",
   "codemirror_mode": {
    "name": "ipython",
    "version": 3
   },
   "pygments_lexer": "ipython3",
   "nbconvert_exporter": "python",
   "file_extension": ".py"
  },
  "kernelspec": {
   "name": "python3",
   "display_name": "Python 3.8.5 64-bit ('venv': venv)"
  },
  "interpreter": {
   "hash": "93a6a9b76bfd63e02ab1b2bd2e6bc5ff501c9330c8c8db6caa76d3262061148d"
  }
 },
 "nbformat": 4,
 "nbformat_minor": 2
}